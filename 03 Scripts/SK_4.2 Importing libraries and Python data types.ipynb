{
 "cells": [
  {
   "cell_type": "markdown",
   "id": "01fdd25c",
   "metadata": {},
   "source": [
    "# 4.2 Importing libraries and Python data types"
   ]
  },
  {
   "cell_type": "markdown",
   "id": "ed521ddb",
   "metadata": {},
   "source": [
    "### This script contains the following points:\n",
    "#### 1. Importing libraries\n",
    "#### 2. Data types"
   ]
  },
  {
   "cell_type": "markdown",
   "id": "f84b8e60",
   "metadata": {},
   "source": [
    "## 01. Importing libraries"
   ]
  },
  {
   "cell_type": "code",
   "execution_count": 1,
   "id": "7cffddf9",
   "metadata": {},
   "outputs": [],
   "source": [
    "# Import libraries\n",
    "import pandas as pd\n",
    "import numpy as np\n",
    "import os"
   ]
  },
  {
   "cell_type": "markdown",
   "id": "1de214ba",
   "metadata": {},
   "source": [
    "## 02. Data types\n"
   ]
  },
  {
   "cell_type": "code",
   "execution_count": 27,
   "id": "0206cf3e",
   "metadata": {},
   "outputs": [],
   "source": [
    "x = 100"
   ]
  },
  {
   "cell_type": "code",
   "execution_count": 28,
   "id": "eb6ca449",
   "metadata": {},
   "outputs": [
    {
     "name": "stdout",
     "output_type": "stream",
     "text": [
      "100\n"
     ]
    }
   ],
   "source": [
    "print(x)"
   ]
  },
  {
   "cell_type": "code",
   "execution_count": 29,
   "id": "733f2c2d",
   "metadata": {},
   "outputs": [],
   "source": [
    "x = 49"
   ]
  },
  {
   "cell_type": "code",
   "execution_count": 30,
   "id": "c4f4c8c9",
   "metadata": {},
   "outputs": [],
   "source": [
    "y = 51"
   ]
  },
  {
   "cell_type": "code",
   "execution_count": 31,
   "id": "c2b05966",
   "metadata": {},
   "outputs": [
    {
     "data": {
      "text/plain": [
       "100"
      ]
     },
     "execution_count": 31,
     "metadata": {},
     "output_type": "execute_result"
    }
   ],
   "source": [
    "x + y"
   ]
  },
  {
   "cell_type": "code",
   "execution_count": 32,
   "id": "9c23eb95",
   "metadata": {},
   "outputs": [
    {
     "name": "stdout",
     "output_type": "stream",
     "text": [
      "100\n"
     ]
    }
   ],
   "source": [
    "print(x + y)"
   ]
  },
  {
   "cell_type": "code",
   "execution_count": 33,
   "id": "1841137d",
   "metadata": {},
   "outputs": [],
   "source": [
    "a = 1000"
   ]
  },
  {
   "cell_type": "code",
   "execution_count": 34,
   "id": "563057fc",
   "metadata": {},
   "outputs": [],
   "source": [
    "b = 900"
   ]
  },
  {
   "cell_type": "code",
   "execution_count": 35,
   "id": "0655b669",
   "metadata": {},
   "outputs": [
    {
     "data": {
      "text/plain": [
       "100"
      ]
     },
     "execution_count": 35,
     "metadata": {},
     "output_type": "execute_result"
    }
   ],
   "source": [
    "a - b"
   ]
  },
  {
   "cell_type": "code",
   "execution_count": 38,
   "id": "0f7c3f79",
   "metadata": {},
   "outputs": [
    {
     "name": "stdout",
     "output_type": "stream",
     "text": [
      "100\n"
     ]
    }
   ],
   "source": [
    "print(a - b)"
   ]
  },
  {
   "cell_type": "code",
   "execution_count": 39,
   "id": "a2465ae9",
   "metadata": {},
   "outputs": [],
   "source": [
    "q = 9.9"
   ]
  },
  {
   "cell_type": "code",
   "execution_count": 40,
   "id": "8abed60d",
   "metadata": {},
   "outputs": [],
   "source": [
    "z = 1.1"
   ]
  },
  {
   "cell_type": "code",
   "execution_count": 41,
   "id": "92b5980d",
   "metadata": {},
   "outputs": [
    {
     "data": {
      "text/plain": [
       "9.0"
      ]
     },
     "execution_count": 41,
     "metadata": {},
     "output_type": "execute_result"
    }
   ],
   "source": [
    "q/z"
   ]
  },
  {
   "cell_type": "code",
   "execution_count": 42,
   "id": "72d1f55b",
   "metadata": {},
   "outputs": [],
   "source": [
    "t = 'Ger'"
   ]
  },
  {
   "cell_type": "code",
   "execution_count": 43,
   "id": "e5d1bb97",
   "metadata": {},
   "outputs": [],
   "source": [
    "p = 'many'"
   ]
  },
  {
   "cell_type": "code",
   "execution_count": 44,
   "id": "8502c4f9",
   "metadata": {},
   "outputs": [
    {
     "data": {
      "text/plain": [
       "'Germany'"
      ]
     },
     "execution_count": 44,
     "metadata": {},
     "output_type": "execute_result"
    }
   ],
   "source": [
    "t + p"
   ]
  },
  {
   "cell_type": "code",
   "execution_count": 53,
   "id": "0610fc83",
   "metadata": {},
   "outputs": [],
   "source": [
    "f = 'Dana '"
   ]
  },
  {
   "cell_type": "code",
   "execution_count": 54,
   "id": "ea5dcc82",
   "metadata": {},
   "outputs": [],
   "source": [
    "r = 'is a '"
   ]
  },
  {
   "cell_type": "code",
   "execution_count": 55,
   "id": "dde36c9a",
   "metadata": {},
   "outputs": [],
   "source": [
    "i = 'great '"
   ]
  },
  {
   "cell_type": "code",
   "execution_count": 49,
   "id": "efebe312",
   "metadata": {},
   "outputs": [],
   "source": [
    "e = 'tutor!'"
   ]
  },
  {
   "cell_type": "code",
   "execution_count": 56,
   "id": "a39cadc8",
   "metadata": {},
   "outputs": [],
   "source": [
    "n = 'Thank '"
   ]
  },
  {
   "cell_type": "code",
   "execution_count": 58,
   "id": "b5079545",
   "metadata": {},
   "outputs": [],
   "source": [
    "d = 'YOU!'"
   ]
  },
  {
   "cell_type": "code",
   "execution_count": 59,
   "id": "c2540cea",
   "metadata": {},
   "outputs": [
    {
     "data": {
      "text/plain": [
       "'Dana is a great tutor!Thank YOU!'"
      ]
     },
     "execution_count": 59,
     "metadata": {},
     "output_type": "execute_result"
    }
   ],
   "source": [
    "f + r + i + e + n + d"
   ]
  },
  {
   "cell_type": "code",
   "execution_count": null,
   "id": "d58a8739",
   "metadata": {},
   "outputs": [],
   "source": []
  }
 ],
 "metadata": {
  "kernelspec": {
   "display_name": "Python 3 (ipykernel)",
   "language": "python",
   "name": "python3"
  },
  "language_info": {
   "codemirror_mode": {
    "name": "ipython",
    "version": 3
   },
   "file_extension": ".py",
   "mimetype": "text/x-python",
   "name": "python",
   "nbconvert_exporter": "python",
   "pygments_lexer": "ipython3",
   "version": "3.10.9"
  }
 },
 "nbformat": 4,
 "nbformat_minor": 5
}
